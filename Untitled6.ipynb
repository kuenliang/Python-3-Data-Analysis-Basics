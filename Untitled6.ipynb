{
  "nbformat": 4,
  "nbformat_minor": 0,
  "metadata": {
    "colab": {
      "name": "Untitled6.ipynb",
      "provenance": [],
      "authorship_tag": "ABX9TyP0MudHract5yk9yOK0XF9y",
      "include_colab_link": true
    },
    "kernelspec": {
      "name": "python3",
      "display_name": "Python 3"
    }
  },
  "cells": [
    {
      "cell_type": "markdown",
      "metadata": {
        "id": "view-in-github",
        "colab_type": "text"
      },
      "source": [
        "<a href=\"https://colab.research.google.com/github/kuenliang/Python-3-Data-Analysis-Basics/blob/master/Untitled6.ipynb\" target=\"_parent\"><img src=\"https://colab.research.google.com/assets/colab-badge.svg\" alt=\"Open In Colab\"/></a>"
      ]
    },
    {
      "cell_type": "code",
      "metadata": {
        "colab": {
          "base_uri": "https://localhost:8080/"
        },
        "id": "w_oy7r0uf-F_",
        "outputId": "9fc3ebbb-b5b9-47ff-f5d0-3c1f900f9518"
      },
      "source": [
        "# 載入使用並重新命名\r\n",
        "import tensorflow as tf\r\n",
        "\r\n",
        "# 取得MNIST案例\r\n",
        "mnist = tf.keras.datasets.mnist\r\n",
        "\r\n",
        "# 使用load_data可以取得所有資料集\r\n",
        "(x_train, y_train), (x_test, y_test) = mnist.load_data()\r\n"
      ],
      "execution_count": 1,
      "outputs": [
        {
          "output_type": "stream",
          "text": [
            "Downloading data from https://storage.googleapis.com/tensorflow/tf-keras-datasets/mnist.npz\n",
            "11493376/11490434 [==============================] - 0s 0us/step\n"
          ],
          "name": "stdout"
        }
      ]
    },
    {
      "cell_type": "code",
      "metadata": {
        "id": "B-eD21U3gYGl"
      },
      "source": [
        "# 訓練用的資料是介於0~1之間\r\n",
        "x_train, x_test = x_train / 255.0, x_test / 255.0\r\n",
        "\r\n",
        "#y_train = tf.one_hot(y_train, 10)\r\n",
        "#y_test = tf.one_hot(y_test, 10)\r\n",
        "\r\n",
        "# 縮小範圍到1000筆\r\n",
        "#x_train = x_train[0:1000]\r\n",
        "#y_train = y_train[0:1000]"
      ],
      "execution_count": 2,
      "outputs": []
    },
    {
      "cell_type": "code",
      "metadata": {
        "colab": {
          "base_uri": "https://localhost:8080/"
        },
        "id": "l0Eab7RRghbk",
        "outputId": "63f4332d-0b3d-4c9c-a67c-83f644f6c643"
      },
      "source": [
        "# 建立深度學習的模型\r\n",
        "model = tf.keras.models.Sequential([\r\n",
        "    # 輸入層\r\n",
        "    tf.keras.layers.Flatten(input_shape=(28, 28)),\r\n",
        "\r\n",
        "    # 隱藏層\r\n",
        "    tf.keras.layers.Dense(128),\r\n",
        "\r\n",
        "    # 輸出層\r\n",
        "    tf.keras.layers.Dense(10)\r\n",
        "])\r\n",
        "\r\n",
        "model.summary()\r\n",
        "\r\n",
        "# 將28x28的某一張圖像資料放入模型中，將會取得logit.\r\n",
        "predictions = model([x_train[0:1]]).numpy()\r\n",
        "\r\n",
        "print('-----predictions-----')\r\n",
        "print(predictions)"
      ],
      "execution_count": 3,
      "outputs": [
        {
          "output_type": "stream",
          "text": [
            "Model: \"sequential\"\n",
            "_________________________________________________________________\n",
            "Layer (type)                 Output Shape              Param #   \n",
            "=================================================================\n",
            "flatten (Flatten)            (None, 784)               0         \n",
            "_________________________________________________________________\n",
            "dense (Dense)                (None, 128)               100480    \n",
            "_________________________________________________________________\n",
            "dense_1 (Dense)              (None, 10)                1290      \n",
            "=================================================================\n",
            "Total params: 101,770\n",
            "Trainable params: 101,770\n",
            "Non-trainable params: 0\n",
            "_________________________________________________________________\n",
            "-----predictions-----\n",
            "[[ 0.6252446   0.63347125 -1.0426332   0.23571315 -0.18897706 -0.27107096\n",
            "   0.01951503 -0.6385284   0.39790484  0.3460831 ]]\n"
          ],
          "name": "stdout"
        }
      ]
    },
    {
      "cell_type": "code",
      "metadata": {
        "colab": {
          "base_uri": "https://localhost:8080/"
        },
        "id": "3P86RTaegkOc",
        "outputId": "797da221-0386-40d5-a051-b4a6963b5b75"
      },
      "source": [
        "# 透過softmax將logit的資料進行換算\r\n",
        "softmax = tf.nn.softmax(predictions).numpy()\r\n",
        "\r\n",
        "print('-----softmax-----')\r\n",
        "print(softmax)"
      ],
      "execution_count": 4,
      "outputs": [
        {
          "output_type": "stream",
          "text": [
            "-----softmax-----\n",
            "[[0.16375549 0.1651082  0.03089198 0.11092374 0.07254106 0.06682377\n",
            "  0.08935747 0.04627498 0.13045582 0.12386756]]\n"
          ],
          "name": "stdout"
        }
      ]
    },
    {
      "cell_type": "code",
      "metadata": {
        "colab": {
          "base_uri": "https://localhost:8080/"
        },
        "id": "WYWnMJfngwFO",
        "outputId": "14564af7-8b45-45c0-b4d0-c6c052e7c2f8"
      },
      "source": [
        "# 開始進訓練前，需要將模型編譯好\r\n",
        "# 1. 指定最佳化函式'adam'，2. 指定使用的損失函式，3. 檢視值\r\n",
        "model.compile(optimizer='adam', loss=tf.keras.losses.SparseCategoricalCrossentropy(from_logits=False), metrics=['accuracy'])\r\n",
        "6\r\n",
        "# 開始訓練，給予訓練集，以及訓練集的答案\r\n",
        "model.fit(x_train, y_train, epochs=5)\r\n",
        "\r\n",
        "# 考古題\r\n",
        "loss1, acc1 =  model.evaluate(x_train, y_train)\r\n",
        "\r\n",
        "# 測驗題\r\n",
        "loss2, acc2 = model.evaluate(x_test, y_test)\r\n",
        "\r\n",
        "\r\n",
        "\r\n",
        "print('Hello, TensorFlow')"
      ],
      "execution_count": 5,
      "outputs": [
        {
          "output_type": "stream",
          "text": [
            "Epoch 1/5\n",
            "1875/1875 [==============================] - 4s 2ms/step - loss: 1.9832 - accuracy: 0.2403\n",
            "Epoch 2/5\n",
            "1875/1875 [==============================] - 3s 2ms/step - loss: 1.8539 - accuracy: 0.1228\n",
            "Epoch 3/5\n",
            "1875/1875 [==============================] - 3s 2ms/step - loss: 1.6752 - accuracy: 0.2447\n",
            "Epoch 4/5\n",
            "1875/1875 [==============================] - 3s 2ms/step - loss: 1.7570 - accuracy: 0.4525\n",
            "Epoch 5/5\n",
            "1875/1875 [==============================] - 3s 2ms/step - loss: 2.5015 - accuracy: 0.4956\n",
            "1875/1875 [==============================] - 2s 1ms/step - loss: 2.0523 - accuracy: 0.5362\n",
            "313/313 [==============================] - 1s 2ms/step - loss: 2.0501 - accuracy: 0.5357\n",
            "Hello, TensorFlow\n"
          ],
          "name": "stdout"
        }
      ]
    }
  ]
}